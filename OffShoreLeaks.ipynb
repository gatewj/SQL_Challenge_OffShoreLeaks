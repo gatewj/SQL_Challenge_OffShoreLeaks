{
 "cells": [
  {
   "cell_type": "markdown",
   "metadata": {},
   "source": [
    "# ICIJ Data Exploration by SQL"
   ]
  },
  {
   "cell_type": "markdown",
   "metadata": {},
   "source": [
    "he ICIJ Offshore Database shows relationships and networks among people or companies and offshore entities. Consider this database like a corporate registry where you can check information about a company and the people who played a role in that entity at a certain point in time. Roles include being a director, a shareholder, a beneficial owner, a trustee, among others."
   ]
  },
  {
   "cell_type": "code",
   "execution_count": 1,
   "metadata": {
    "collapsed": true
   },
   "outputs": [],
   "source": [
    "import sqlite3\n",
    "import pandas as pd\n",
    "import numpy as np\n",
    "from sqlalchemy import create_engine\n",
    "import datetime as dt\n",
    "from IPython.display import display\n",
    "import os\n",
    "import glob\n",
    "import sys"
   ]
  },
  {
   "cell_type": "markdown",
   "metadata": {},
   "source": [
    "## These first steps are creating a datebase called OffShoreLeaks"
   ]
  },
  {
   "cell_type": "markdown",
   "metadata": {},
   "source": [
    "### If interested in only interacting with the database and not the creation of the database scroll down"
   ]
  },
  {
   "cell_type": "markdown",
   "metadata": {},
   "source": [
    "## The tables in the database are the 4 csv files that were downloaded"
   ]
  },
  {
   "cell_type": "code",
   "execution_count": 2,
   "metadata": {
    "collapsed": false
   },
   "outputs": [],
   "source": [
    "# Before loading the data into a pandas dataframe, I cleaned the data up somewhat in excel by\n",
    "#  formating the columns using \"Text-to-Columns\", they were separated by a semicolumn and I had\n",
    "#  trouble getting the files to load at first. I also had to use this encoding='utf-8', to properly\n",
    "#  load the data.\n",
    "\n",
    "\n",
    "countriesNW = pd.read_csv(\"countriesNWCleaned.csv\",encoding='utf-8')"
   ]
  },
  {
   "cell_type": "code",
   "execution_count": 3,
   "metadata": {
    "collapsed": false
   },
   "outputs": [
    {
     "data": {
      "text/html": [
       "<div>\n",
       "<table border=\"1\" class=\"dataframe\">\n",
       "  <thead>\n",
       "    <tr style=\"text-align: right;\">\n",
       "      <th></th>\n",
       "      <th>country_id</th>\n",
       "      <th>country_code</th>\n",
       "      <th>country_name</th>\n",
       "    </tr>\n",
       "  </thead>\n",
       "  <tbody>\n",
       "    <tr>\n",
       "      <th>0</th>\n",
       "      <td>1</td>\n",
       "      <td>AF</td>\n",
       "      <td>Afghanistan</td>\n",
       "    </tr>\n",
       "    <tr>\n",
       "      <th>1</th>\n",
       "      <td>2</td>\n",
       "      <td>AX</td>\n",
       "      <td>Akrotiri</td>\n",
       "    </tr>\n",
       "    <tr>\n",
       "      <th>2</th>\n",
       "      <td>3</td>\n",
       "      <td>AL</td>\n",
       "      <td>Albania</td>\n",
       "    </tr>\n",
       "    <tr>\n",
       "      <th>3</th>\n",
       "      <td>4</td>\n",
       "      <td>AG</td>\n",
       "      <td>Algeria</td>\n",
       "    </tr>\n",
       "    <tr>\n",
       "      <th>4</th>\n",
       "      <td>5</td>\n",
       "      <td>AQ</td>\n",
       "      <td>American Samoa</td>\n",
       "    </tr>\n",
       "  </tbody>\n",
       "</table>\n",
       "</div>"
      ],
      "text/plain": [
       "   country_id country_code    country_name\n",
       "0           1           AF     Afghanistan\n",
       "1           2           AX        Akrotiri\n",
       "2           3           AL         Albania\n",
       "3           4           AG         Algeria\n",
       "4           5           AQ  American Samoa"
      ]
     },
     "execution_count": 3,
     "metadata": {},
     "output_type": "execute_result"
    }
   ],
   "source": [
    "countriesNW.head()"
   ]
  },
  {
   "cell_type": "code",
   "execution_count": 4,
   "metadata": {
    "collapsed": true
   },
   "outputs": [],
   "source": [
    "# Connect to the database I created in SQLite called OffShoreLeaks\n",
    "conn = sqlite3.connect(\"OffshoreLeaks.db\")"
   ]
  },
  {
   "cell_type": "code",
   "execution_count": 5,
   "metadata": {
    "collapsed": false
   },
   "outputs": [
    {
     "data": {
      "text/plain": [
       "pandas.core.frame.DataFrame"
      ]
     },
     "execution_count": 5,
     "metadata": {},
     "output_type": "execute_result"
    }
   ],
   "source": [
    "type(countriesNW)"
   ]
  },
  {
   "cell_type": "code",
   "execution_count": 66,
   "metadata": {
    "collapsed": false
   },
   "outputs": [],
   "source": [
    "# Found this code before using encoding='utf-8' which spot check which data files was giving me the most \n",
    "#  trouble. Data values with special characters was giving me the most trouble. Note: It seems encoding='utf-8']\n",
    "#   might have alleviated some of those issues, however, with the first csv file I loaded I did change two\n",
    "#   of the cities characters which were giving me trouble.\n",
    "\n",
    "\n",
    "faulty_rows = []\n",
    "for i in range(len(countriesNW)):\n",
    "    try:\n",
    "        test = countriesNW.iloc[i]\n",
    "        test.to_csv(\"test.csv\")\n",
    "    except:\n",
    "        pass\n",
    "        faulty_rows.append(i)\n",
    "        print i"
   ]
  },
  {
   "cell_type": "code",
   "execution_count": 69,
   "metadata": {
    "collapsed": false
   },
   "outputs": [
    {
     "data": {
      "text/plain": [
       "country_id                 61\n",
       "country_code               IV\n",
       "country_name    CA te dIvoire\n",
       "Name: 60, dtype: object"
      ]
     },
     "execution_count": 69,
     "metadata": {},
     "output_type": "execute_result"
    }
   ],
   "source": [
    "countriesNW.iloc[60,]"
   ]
  },
  {
   "cell_type": "code",
   "execution_count": 70,
   "metadata": {
    "collapsed": false
   },
   "outputs": [],
   "source": [
    "countriesNW.columns = ['country_id','country_code','country_name']"
   ]
  },
  {
   "cell_type": "code",
   "execution_count": 27,
   "metadata": {
    "collapsed": false
   },
   "outputs": [],
   "source": [
    "disk_engine = create_engine('sqlite:OffshoreLeaks.db') # Initializes database  directory\n",
    "disk_engine.text_factory = str"
   ]
  },
  {
   "cell_type": "code",
   "execution_count": 80,
   "metadata": {
    "collapsed": true
   },
   "outputs": [],
   "source": [
    "countriesNW.to_sql('countriesNW', disk_engine, if_exists='append')\n",
    "    "
   ]
  },
  {
   "cell_type": "code",
   "execution_count": 81,
   "metadata": {
    "collapsed": false
   },
   "outputs": [],
   "source": [
    "# This method did not work in this case\n",
    "\n",
    "#conn.text_factory = str  # allows utf-8 data to be stored\n",
    "#countriesNW.to_sql(countriesNW, conn,if_exists='append',index=False,encoding='utf-8')"
   ]
  },
  {
   "cell_type": "code",
   "execution_count": null,
   "metadata": {
    "collapsed": true
   },
   "outputs": [],
   "source": []
  },
  {
   "cell_type": "markdown",
   "metadata": {
    "collapsed": false
   },
   "source": [
    "The method below did not work, however, because of time I chose not to figure it out since the above method \n",
    "works"
   ]
  },
  {
   "cell_type": "code",
   "execution_count": 23,
   "metadata": {
    "collapsed": false
   },
   "outputs": [
    {
     "data": {
      "text/plain": [
       "<sqlite3.Cursor at 0x7f18dc0>"
      ]
     },
     "execution_count": 23,
     "metadata": {},
     "output_type": "execute_result"
    }
   ],
   "source": [
    "#con = sqlite3.connect(\":memory:\")\n",
    "#cur = con.cursor()\n",
    "#cur.execute(\"CREATE TABLE t (col1, col2, col3);\")\n"
   ]
  },
  {
   "cell_type": "code",
   "execution_count": 24,
   "metadata": {
    "collapsed": false
   },
   "outputs": [],
   "source": [
    "#with open(\"C:/Users/James/Desktop/python_training/DataChallenge/OffshoreLeaks/countriesNWCleaned.csv\",'rb') as fin:\n",
    "#    dr = csv.DictReader(fin) # comma is default delimiter\n",
    "#    to_db = [(i['country_id'], i['country_code'], i['country_name']) for i in dr]"
   ]
  },
  {
   "cell_type": "code",
   "execution_count": 82,
   "metadata": {
    "collapsed": false
   },
   "outputs": [],
   "source": [
    "#cur.executemany(\"INSERT INTO t (col1, col2, col3) VALUES (?, ?, ?);\", to_db)\n",
    "#con.commit()"
   ]
  },
  {
   "cell_type": "code",
   "execution_count": null,
   "metadata": {
    "collapsed": false
   },
   "outputs": [],
   "source": []
  },
  {
   "cell_type": "code",
   "execution_count": 28,
   "metadata": {
    "collapsed": true
   },
   "outputs": [],
   "source": []
  },
  {
   "cell_type": "code",
   "execution_count": 29,
   "metadata": {
    "collapsed": true
   },
   "outputs": [],
   "source": [
    "#db = sys.argv[1]\n",
    " \n",
    "#conn = sqlite3.connect(db)\n",
    "#conn.text_factory = str  # allows utf-8 data to be stored\n",
    " \n",
    "#c = conn.cursor()"
   ]
  },
  {
   "cell_type": "code",
   "execution_count": 3,
   "metadata": {
    "collapsed": false
   },
   "outputs": [
    {
     "name": "stderr",
     "output_type": "stream",
     "text": [
      "c:\\Users\\James\\Anaconda\\lib\\site-packages\\IPython\\core\\interactiveshell.py:2868: DtypeWarning: Columns (4,5) have mixed types. Specify dtype option on import or set low_memory=False.\n",
      "  interactivity=interactivity, compiler=compiler, result=result)\n"
     ]
    }
   ],
   "source": [
    "# Next csv file\n",
    "\n",
    "# WARNING: Deleted ChinesePos column which had a lot of special characters. Challenge to upload file. Once\n",
    "#   column was deleted I was able to load the dataframe up.\n",
    "\n",
    "edgesNW = pd.read_csv(\"edges_1DNWCleaned.csv\")"
   ]
  },
  {
   "cell_type": "code",
   "execution_count": 4,
   "metadata": {
    "collapsed": false
   },
   "outputs": [
    {
     "data": {
      "text/html": [
       "<div>\n",
       "<table border=\"1\" class=\"dataframe\">\n",
       "  <thead>\n",
       "    <tr style=\"text-align: right;\">\n",
       "      <th></th>\n",
       "      <th>Unique_ID</th>\n",
       "      <th>Entity_ID1</th>\n",
       "      <th>Entity_ID2</th>\n",
       "      <th>description_</th>\n",
       "      <th>date_from</th>\n",
       "      <th>date_to</th>\n",
       "      <th>direction</th>\n",
       "      <th>linkType</th>\n",
       "    </tr>\n",
       "  </thead>\n",
       "  <tbody>\n",
       "    <tr>\n",
       "      <th>0</th>\n",
       "      <td>171253</td>\n",
       "      <td>102767</td>\n",
       "      <td>124901</td>\n",
       "      <td>Assistant Secretary</td>\n",
       "      <td>NaN</td>\n",
       "      <td>NaN</td>\n",
       "      <td>1</td>\n",
       "      <td>EO</td>\n",
       "    </tr>\n",
       "    <tr>\n",
       "      <th>1</th>\n",
       "      <td>336222</td>\n",
       "      <td>118470</td>\n",
       "      <td>167808</td>\n",
       "      <td>Auditor</td>\n",
       "      <td>NaN</td>\n",
       "      <td>NaN</td>\n",
       "      <td>1</td>\n",
       "      <td>EO</td>\n",
       "    </tr>\n",
       "    <tr>\n",
       "      <th>2</th>\n",
       "      <td>336223</td>\n",
       "      <td>48124</td>\n",
       "      <td>167808</td>\n",
       "      <td>Auditor</td>\n",
       "      <td>NaN</td>\n",
       "      <td>NaN</td>\n",
       "      <td>1</td>\n",
       "      <td>EO</td>\n",
       "    </tr>\n",
       "    <tr>\n",
       "      <th>3</th>\n",
       "      <td>336224</td>\n",
       "      <td>61547</td>\n",
       "      <td>167808</td>\n",
       "      <td>Auditor</td>\n",
       "      <td>NaN</td>\n",
       "      <td>NaN</td>\n",
       "      <td>1</td>\n",
       "      <td>EO</td>\n",
       "    </tr>\n",
       "    <tr>\n",
       "      <th>4</th>\n",
       "      <td>336256</td>\n",
       "      <td>89570</td>\n",
       "      <td>123436</td>\n",
       "      <td>Authorised Person / Signatory</td>\n",
       "      <td>NaN</td>\n",
       "      <td>NaN</td>\n",
       "      <td>1</td>\n",
       "      <td>EO</td>\n",
       "    </tr>\n",
       "  </tbody>\n",
       "</table>\n",
       "</div>"
      ],
      "text/plain": [
       "   Unique_ID  Entity_ID1  Entity_ID2                   description_ date_from  \\\n",
       "0     171253      102767      124901            Assistant Secretary       NaN   \n",
       "1     336222      118470      167808                        Auditor       NaN   \n",
       "2     336223       48124      167808                        Auditor       NaN   \n",
       "3     336224       61547      167808                        Auditor       NaN   \n",
       "4     336256       89570      123436  Authorised Person / Signatory       NaN   \n",
       "\n",
       "  date_to  direction linkType  \n",
       "0     NaN          1       EO  \n",
       "1     NaN          1       EO  \n",
       "2     NaN          1       EO  \n",
       "3     NaN          1       EO  \n",
       "4     NaN          1       EO  "
      ]
     },
     "execution_count": 4,
     "metadata": {},
     "output_type": "execute_result"
    }
   ],
   "source": [
    "edgesNW.head(5)"
   ]
  },
  {
   "cell_type": "code",
   "execution_count": 10,
   "metadata": {
    "collapsed": false
   },
   "outputs": [
    {
     "name": "stdout",
     "output_type": "stream",
     "text": [
      "<class 'pandas.core.frame.DataFrame'>\n",
      "RangeIndex: 562015 entries, 0 to 562014\n",
      "Data columns (total 8 columns):\n",
      "Unique_ID       562015 non-null int64\n",
      "Entity_ID1      562015 non-null int64\n",
      "Entity_ID2      562015 non-null int64\n",
      "description_    562015 non-null object\n",
      "date_from       230271 non-null object\n",
      "date_to         30108 non-null object\n",
      "direction       562015 non-null int64\n",
      "linkType        562015 non-null object\n",
      "dtypes: int64(4), object(4)\n",
      "memory usage: 34.3+ MB\n"
     ]
    }
   ],
   "source": [
    "edgesNW.info()"
   ]
  },
  {
   "cell_type": "code",
   "execution_count": 8,
   "metadata": {
    "collapsed": false
   },
   "outputs": [
    {
     "data": {
      "text/html": [
       "<div>\n",
       "<table border=\"1\" class=\"dataframe\">\n",
       "  <thead>\n",
       "    <tr style=\"text-align: right;\">\n",
       "      <th></th>\n",
       "      <th>Unique_ID</th>\n",
       "      <th>Entity_ID1</th>\n",
       "      <th>Entity_ID2</th>\n",
       "      <th>direction</th>\n",
       "    </tr>\n",
       "  </thead>\n",
       "  <tbody>\n",
       "    <tr>\n",
       "      <th>count</th>\n",
       "      <td>562015.000000</td>\n",
       "      <td>5.620150e+05</td>\n",
       "      <td>5.620150e+05</td>\n",
       "      <td>562015.000000</td>\n",
       "    </tr>\n",
       "    <tr>\n",
       "      <th>mean</th>\n",
       "      <td>284943.688636</td>\n",
       "      <td>1.380513e+05</td>\n",
       "      <td>1.912398e+05</td>\n",
       "      <td>0.998893</td>\n",
       "    </tr>\n",
       "    <tr>\n",
       "      <th>std</th>\n",
       "      <td>165749.904636</td>\n",
       "      <td>1.880105e+05</td>\n",
       "      <td>4.932615e+04</td>\n",
       "      <td>0.033249</td>\n",
       "    </tr>\n",
       "    <tr>\n",
       "      <th>min</th>\n",
       "      <td>1.000000</td>\n",
       "      <td>1.000000e+00</td>\n",
       "      <td>4.151700e+04</td>\n",
       "      <td>0.000000</td>\n",
       "    </tr>\n",
       "    <tr>\n",
       "      <th>25%</th>\n",
       "      <td>140693.500000</td>\n",
       "      <td>5.466200e+04</td>\n",
       "      <td>1.483260e+05</td>\n",
       "      <td>1.000000</td>\n",
       "    </tr>\n",
       "    <tr>\n",
       "      <th>50%</th>\n",
       "      <td>284571.000000</td>\n",
       "      <td>9.177200e+04</td>\n",
       "      <td>1.753030e+05</td>\n",
       "      <td>1.000000</td>\n",
       "    </tr>\n",
       "    <tr>\n",
       "      <th>75%</th>\n",
       "      <td>428570.500000</td>\n",
       "      <td>1.943905e+05</td>\n",
       "      <td>2.367240e+05</td>\n",
       "      <td>1.000000</td>\n",
       "    </tr>\n",
       "    <tr>\n",
       "      <th>max</th>\n",
       "      <td>572896.000000</td>\n",
       "      <td>5.719300e+06</td>\n",
       "      <td>2.004267e+06</td>\n",
       "      <td>1.000000</td>\n",
       "    </tr>\n",
       "  </tbody>\n",
       "</table>\n",
       "</div>"
      ],
      "text/plain": [
       "           Unique_ID    Entity_ID1    Entity_ID2      direction\n",
       "count  562015.000000  5.620150e+05  5.620150e+05  562015.000000\n",
       "mean   284943.688636  1.380513e+05  1.912398e+05       0.998893\n",
       "std    165749.904636  1.880105e+05  4.932615e+04       0.033249\n",
       "min         1.000000  1.000000e+00  4.151700e+04       0.000000\n",
       "25%    140693.500000  5.466200e+04  1.483260e+05       1.000000\n",
       "50%    284571.000000  9.177200e+04  1.753030e+05       1.000000\n",
       "75%    428570.500000  1.943905e+05  2.367240e+05       1.000000\n",
       "max    572896.000000  5.719300e+06  2.004267e+06       1.000000"
      ]
     },
     "execution_count": 8,
     "metadata": {},
     "output_type": "execute_result"
    }
   ],
   "source": [
    "edgesNW.describe()"
   ]
  },
  {
   "cell_type": "code",
   "execution_count": null,
   "metadata": {
    "collapsed": true
   },
   "outputs": [],
   "source": [
    "# This caused the system to crash this time, do not use on this file.\n",
    "\n",
    "faulty_rows = []\n",
    "for i in range(len(countriesNW)):\n",
    "    try:\n",
    "        test = countriesNW.iloc[i]\n",
    "        test.to_csv(\"test.csv\")\n",
    "    except:\n",
    "        pass\n",
    "        faulty_rows.append(i)\n",
    "        print i"
   ]
  },
  {
   "cell_type": "code",
   "execution_count": 38,
   "metadata": {
    "collapsed": true
   },
   "outputs": [],
   "source": [
    "disk_engine = create_engine('sqlite:OffshoreLeaks.db')"
   ]
  },
  {
   "cell_type": "code",
   "execution_count": 12,
   "metadata": {
    "collapsed": true
   },
   "outputs": [],
   "source": [
    "edgesNW.to_sql('edgesNW', disk_engine, if_exists='append')"
   ]
  },
  {
   "cell_type": "code",
   "execution_count": null,
   "metadata": {
    "collapsed": false
   },
   "outputs": [],
   "source": []
  },
  {
   "cell_type": "code",
   "execution_count": 39,
   "metadata": {
    "collapsed": true
   },
   "outputs": [],
   "source": [
    "node_countries = pd.read_csv(\"node_countriesNWCleaned.csv\",encoding='utf-8')"
   ]
  },
  {
   "cell_type": "code",
   "execution_count": 40,
   "metadata": {
    "collapsed": false
   },
   "outputs": [
    {
     "data": {
      "text/html": [
       "<div>\n",
       "<table border=\"1\" class=\"dataframe\">\n",
       "  <thead>\n",
       "    <tr style=\"text-align: right;\">\n",
       "      <th></th>\n",
       "      <th>NODEID1</th>\n",
       "      <th>country_code</th>\n",
       "      <th>country_name</th>\n",
       "      <th>country_id</th>\n",
       "    </tr>\n",
       "  </thead>\n",
       "  <tbody>\n",
       "    <tr>\n",
       "      <th>0</th>\n",
       "      <td>118720</td>\n",
       "      <td>HK</td>\n",
       "      <td>Hong Kong</td>\n",
       "      <td>110.0</td>\n",
       "    </tr>\n",
       "    <tr>\n",
       "      <th>1</th>\n",
       "      <td>118722</td>\n",
       "      <td>HK</td>\n",
       "      <td>Hong Kong</td>\n",
       "      <td>110.0</td>\n",
       "    </tr>\n",
       "    <tr>\n",
       "      <th>2</th>\n",
       "      <td>118725</td>\n",
       "      <td>TW</td>\n",
       "      <td>Taiwan</td>\n",
       "      <td>241.0</td>\n",
       "    </tr>\n",
       "    <tr>\n",
       "      <th>3</th>\n",
       "      <td>118726</td>\n",
       "      <td>TW</td>\n",
       "      <td>Taiwan</td>\n",
       "      <td>241.0</td>\n",
       "    </tr>\n",
       "    <tr>\n",
       "      <th>4</th>\n",
       "      <td>118753</td>\n",
       "      <td>HK</td>\n",
       "      <td>Hong Kong</td>\n",
       "      <td>110.0</td>\n",
       "    </tr>\n",
       "  </tbody>\n",
       "</table>\n",
       "</div>"
      ],
      "text/plain": [
       "   NODEID1 country_code country_name  country_id\n",
       "0   118720           HK    Hong Kong       110.0\n",
       "1   118722           HK    Hong Kong       110.0\n",
       "2   118725           TW       Taiwan       241.0\n",
       "3   118726           TW       Taiwan       241.0\n",
       "4   118753           HK    Hong Kong       110.0"
      ]
     },
     "execution_count": 40,
     "metadata": {},
     "output_type": "execute_result"
    }
   ],
   "source": [
    "node_countries.head(5)"
   ]
  },
  {
   "cell_type": "code",
   "execution_count": 41,
   "metadata": {
    "collapsed": false
   },
   "outputs": [
    {
     "name": "stdout",
     "output_type": "stream",
     "text": [
      "<class 'pandas.core.frame.DataFrame'>\n",
      "RangeIndex: 326213 entries, 0 to 326212\n",
      "Data columns (total 4 columns):\n",
      "NODEID1         326213 non-null int64\n",
      "country_code    326213 non-null object\n",
      "country_name    326213 non-null object\n",
      "country_id      275084 non-null float64\n",
      "dtypes: float64(1), int64(1), object(2)\n",
      "memory usage: 10.0+ MB\n"
     ]
    }
   ],
   "source": [
    "node_countries.info()"
   ]
  },
  {
   "cell_type": "code",
   "execution_count": 42,
   "metadata": {
    "collapsed": false
   },
   "outputs": [
    {
     "data": {
      "text/plain": [
       "NODEID1         326213\n",
       "country_code    326213\n",
       "country_name    326213\n",
       "country_id      275084\n",
       "dtype: int64"
      ]
     },
     "execution_count": 42,
     "metadata": {},
     "output_type": "execute_result"
    }
   ],
   "source": [
    "node_countries.count()"
   ]
  },
  {
   "cell_type": "code",
   "execution_count": 43,
   "metadata": {
    "collapsed": false
   },
   "outputs": [],
   "source": [
    "# I had to add encoding='utf-8' into the pd.read_csv file in order for this to work.\n",
    "\n",
    "node_countries.to_sql('node_countries', disk_engine, if_exists='append')"
   ]
  },
  {
   "cell_type": "code",
   "execution_count": 6,
   "metadata": {
    "collapsed": false
   },
   "outputs": [
    {
     "name": "stderr",
     "output_type": "stream",
     "text": [
      "c:\\Users\\James\\Anaconda\\lib\\site-packages\\IPython\\core\\interactiveshell.py:2868: DtypeWarning: Columns (4,5,6,7,8,9,10,11,12,14,15,17,18,19,20,21,22) have mixed types. Specify dtype option on import or set low_memory=False.\n",
      "  interactivity=interactivity, compiler=compiler, result=result)\n"
     ]
    }
   ],
   "source": [
    "nodes = pd.read_csv(\"nodesNWCleaned.csv\",encoding='utf-8')"
   ]
  },
  {
   "cell_type": "code",
   "execution_count": 34,
   "metadata": {
    "collapsed": false
   },
   "outputs": [
    {
     "data": {
      "text/html": [
       "<div>\n",
       "<table border=\"1\" class=\"dataframe\">\n",
       "  <thead>\n",
       "    <tr style=\"text-align: right;\">\n",
       "      <th></th>\n",
       "      <th>Unique_ID</th>\n",
       "      <th>subtypes_</th>\n",
       "      <th>Description_</th>\n",
       "      <th>searchField_</th>\n",
       "      <th>status</th>\n",
       "      <th>desc_status</th>\n",
       "      <th>type</th>\n",
       "      <th>desc_company_type</th>\n",
       "      <th>inc_dat</th>\n",
       "      <th>dorm_dat</th>\n",
       "      <th>...</th>\n",
       "      <th>agencyID</th>\n",
       "      <th>tax_stat</th>\n",
       "      <th>tax_stat_description</th>\n",
       "      <th>Unnamed: 16</th>\n",
       "      <th>Unnamed: 17</th>\n",
       "      <th>Unnamed: 18</th>\n",
       "      <th>Unnamed: 19</th>\n",
       "      <th>Unnamed: 20</th>\n",
       "      <th>Unnamed: 21</th>\n",
       "      <th>Unnamed: 22</th>\n",
       "    </tr>\n",
       "  </thead>\n",
       "  <tbody>\n",
       "    <tr>\n",
       "      <th>0</th>\n",
       "      <td>51113</td>\n",
       "      <td>OFFICER</td>\n",
       "      <td>Bisbro Investment Company Ltd.</td>\n",
       "      <td>Bisbro Investment Company Ltd.</td>\n",
       "      <td>NaN</td>\n",
       "      <td>NaN</td>\n",
       "      <td>NaN</td>\n",
       "      <td>NaN</td>\n",
       "      <td>NaN</td>\n",
       "      <td>NaN</td>\n",
       "      <td>...</td>\n",
       "      <td>1.0</td>\n",
       "      <td>NaN</td>\n",
       "      <td>NaN</td>\n",
       "      <td>NaN</td>\n",
       "      <td>NaN</td>\n",
       "      <td>NaN</td>\n",
       "      <td>NaN</td>\n",
       "      <td>NaN</td>\n",
       "      <td>NaN</td>\n",
       "      <td>NaN</td>\n",
       "    </tr>\n",
       "    <tr>\n",
       "      <th>1</th>\n",
       "      <td>51114</td>\n",
       "      <td>OFFICER</td>\n",
       "      <td>Mohamed Mustafa Bin A Mohamed Ismail</td>\n",
       "      <td>Mohamed Mustafa Bin A Mohamed Ismail</td>\n",
       "      <td>NaN</td>\n",
       "      <td>NaN</td>\n",
       "      <td>NaN</td>\n",
       "      <td>NaN</td>\n",
       "      <td>NaN</td>\n",
       "      <td>NaN</td>\n",
       "      <td>...</td>\n",
       "      <td>1.0</td>\n",
       "      <td>NaN</td>\n",
       "      <td>NaN</td>\n",
       "      <td>NaN</td>\n",
       "      <td>NaN</td>\n",
       "      <td>NaN</td>\n",
       "      <td>NaN</td>\n",
       "      <td>NaN</td>\n",
       "      <td>NaN</td>\n",
       "      <td>NaN</td>\n",
       "    </tr>\n",
       "    <tr>\n",
       "      <th>2</th>\n",
       "      <td>51115</td>\n",
       "      <td>OFFICER</td>\n",
       "      <td>Teh Hong Eng</td>\n",
       "      <td>Teh Hong Eng</td>\n",
       "      <td>NaN</td>\n",
       "      <td>NaN</td>\n",
       "      <td>NaN</td>\n",
       "      <td>NaN</td>\n",
       "      <td>NaN</td>\n",
       "      <td>NaN</td>\n",
       "      <td>...</td>\n",
       "      <td>1.0</td>\n",
       "      <td>NaN</td>\n",
       "      <td>NaN</td>\n",
       "      <td>NaN</td>\n",
       "      <td>NaN</td>\n",
       "      <td>NaN</td>\n",
       "      <td>NaN</td>\n",
       "      <td>NaN</td>\n",
       "      <td>NaN</td>\n",
       "      <td>NaN</td>\n",
       "    </tr>\n",
       "    <tr>\n",
       "      <th>3</th>\n",
       "      <td>51116</td>\n",
       "      <td>OFFICER</td>\n",
       "      <td>New Sights Enterprises Limited</td>\n",
       "      <td>New Sights Enterprises Limited</td>\n",
       "      <td>NaN</td>\n",
       "      <td>NaN</td>\n",
       "      <td>NaN</td>\n",
       "      <td>NaN</td>\n",
       "      <td>NaN</td>\n",
       "      <td>NaN</td>\n",
       "      <td>...</td>\n",
       "      <td>1.0</td>\n",
       "      <td>NaN</td>\n",
       "      <td>NaN</td>\n",
       "      <td>NaN</td>\n",
       "      <td>NaN</td>\n",
       "      <td>NaN</td>\n",
       "      <td>NaN</td>\n",
       "      <td>NaN</td>\n",
       "      <td>NaN</td>\n",
       "      <td>NaN</td>\n",
       "    </tr>\n",
       "    <tr>\n",
       "      <th>4</th>\n",
       "      <td>51117</td>\n",
       "      <td>OFFICER</td>\n",
       "      <td>Yong Meow Mui</td>\n",
       "      <td>Yong Meow Mui</td>\n",
       "      <td>NaN</td>\n",
       "      <td>NaN</td>\n",
       "      <td>NaN</td>\n",
       "      <td>NaN</td>\n",
       "      <td>NaN</td>\n",
       "      <td>NaN</td>\n",
       "      <td>...</td>\n",
       "      <td>1.0</td>\n",
       "      <td>NaN</td>\n",
       "      <td>NaN</td>\n",
       "      <td>NaN</td>\n",
       "      <td>NaN</td>\n",
       "      <td>NaN</td>\n",
       "      <td>NaN</td>\n",
       "      <td>NaN</td>\n",
       "      <td>NaN</td>\n",
       "      <td>NaN</td>\n",
       "    </tr>\n",
       "  </tbody>\n",
       "</table>\n",
       "<p>5 rows × 23 columns</p>\n",
       "</div>"
      ],
      "text/plain": [
       "  Unique_ID subtypes_                          Description_  \\\n",
       "0     51113   OFFICER        Bisbro Investment Company Ltd.   \n",
       "1     51114   OFFICER  Mohamed Mustafa Bin A Mohamed Ismail   \n",
       "2     51115   OFFICER                          Teh Hong Eng   \n",
       "3     51116   OFFICER        New Sights Enterprises Limited   \n",
       "4     51117   OFFICER                         Yong Meow Mui   \n",
       "\n",
       "                            searchField_ status desc_status type  \\\n",
       "0        Bisbro Investment Company Ltd.     NaN         NaN  NaN   \n",
       "1  Mohamed Mustafa Bin A Mohamed Ismail     NaN         NaN  NaN   \n",
       "2                          Teh Hong Eng     NaN         NaN  NaN   \n",
       "3        New Sights Enterprises Limited     NaN         NaN  NaN   \n",
       "4                         Yong Meow Mui     NaN         NaN  NaN   \n",
       "\n",
       "  desc_company_type inc_dat dorm_dat     ...     agencyID tax_stat  \\\n",
       "0               NaN     NaN      NaN     ...          1.0      NaN   \n",
       "1               NaN     NaN      NaN     ...          1.0      NaN   \n",
       "2               NaN     NaN      NaN     ...          1.0      NaN   \n",
       "3               NaN     NaN      NaN     ...          1.0      NaN   \n",
       "4               NaN     NaN      NaN     ...          1.0      NaN   \n",
       "\n",
       "  tax_stat_description  Unnamed: 16 Unnamed: 17 Unnamed: 18  Unnamed: 19  \\\n",
       "0                  NaN          NaN         NaN         NaN          NaN   \n",
       "1                  NaN          NaN         NaN         NaN          NaN   \n",
       "2                  NaN          NaN         NaN         NaN          NaN   \n",
       "3                  NaN          NaN         NaN         NaN          NaN   \n",
       "4                  NaN          NaN         NaN         NaN          NaN   \n",
       "\n",
       "  Unnamed: 20 Unnamed: 21 Unnamed: 22  \n",
       "0         NaN         NaN         NaN  \n",
       "1         NaN         NaN         NaN  \n",
       "2         NaN         NaN         NaN  \n",
       "3         NaN         NaN         NaN  \n",
       "4         NaN         NaN         NaN  \n",
       "\n",
       "[5 rows x 23 columns]"
      ]
     },
     "execution_count": 34,
     "metadata": {},
     "output_type": "execute_result"
    }
   ],
   "source": [
    "nodes.head(5)"
   ]
  },
  {
   "cell_type": "code",
   "execution_count": 35,
   "metadata": {
    "collapsed": false
   },
   "outputs": [
    {
     "name": "stdout",
     "output_type": "stream",
     "text": [
      "<class 'pandas.core.frame.DataFrame'>\n",
      "RangeIndex: 279495 entries, 0 to 279494\n",
      "Data columns (total 23 columns):\n",
      "Unique_ID               279495 non-null object\n",
      "subtypes_               278973 non-null object\n",
      "Description_            278825 non-null object\n",
      "searchField_            200957 non-null object\n",
      "status                  23278 non-null object\n",
      "desc_status             23254 non-null object\n",
      "type                    30138 non-null object\n",
      "desc_company_type       30042 non-null object\n",
      "inc_dat                 22801 non-null object\n",
      "dorm_dat                4723 non-null object\n",
      "juris                   12202 non-null object\n",
      "desc_jurisdiction       12160 non-null object\n",
      "completeAddresses       13175 non-null object\n",
      "agencyID                120362 non-null float64\n",
      "tax_stat                30701 non-null object\n",
      "tax_stat_description    30695 non-null object\n",
      "Unnamed: 16             0 non-null float64\n",
      "Unnamed: 17             106 non-null object\n",
      "Unnamed: 18             106 non-null object\n",
      "Unnamed: 19             13 non-null object\n",
      "Unnamed: 20             13 non-null object\n",
      "Unnamed: 21             1 non-null object\n",
      "Unnamed: 22             1 non-null object\n",
      "dtypes: float64(2), object(21)\n",
      "memory usage: 49.0+ MB\n"
     ]
    }
   ],
   "source": [
    "nodes.info()"
   ]
  },
  {
   "cell_type": "code",
   "execution_count": 36,
   "metadata": {
    "collapsed": false
   },
   "outputs": [
    {
     "data": {
      "text/plain": [
       "Unique_ID               279495\n",
       "subtypes_               278973\n",
       "Description_            278825\n",
       "searchField_            200957\n",
       "status                   23278\n",
       "desc_status              23254\n",
       "type                     30138\n",
       "desc_company_type        30042\n",
       "inc_dat                  22801\n",
       "dorm_dat                  4723\n",
       "juris                    12202\n",
       "desc_jurisdiction        12160\n",
       "completeAddresses        13175\n",
       "agencyID                120362\n",
       "tax_stat                 30701\n",
       "tax_stat_description     30695\n",
       "Unnamed: 16                  0\n",
       "Unnamed: 17                106\n",
       "Unnamed: 18                106\n",
       "Unnamed: 19                 13\n",
       "Unnamed: 20                 13\n",
       "Unnamed: 21                  1\n",
       "Unnamed: 22                  1\n",
       "dtype: int64"
      ]
     },
     "execution_count": 36,
     "metadata": {},
     "output_type": "execute_result"
    }
   ],
   "source": [
    "nodes.count()"
   ]
  },
  {
   "cell_type": "code",
   "execution_count": null,
   "metadata": {
    "collapsed": false
   },
   "outputs": [],
   "source": [
    "nodes.to_sql('nodes', disk_engine, if_exists='append')"
   ]
  },
  {
   "cell_type": "markdown",
   "metadata": {
    "collapsed": true
   },
   "source": [
    "# All the Data is now in a DataBase called OffShoreLeaks"
   ]
  },
  {
   "cell_type": "markdown",
   "metadata": {},
   "source": [
    "### **WARNING**:\n",
    "* IGNORE ALL ABOVE SINCE DATABASE WAS ALREADY CREATED\n",
    "* However, the steps above demonstrate how to create a database from csv files."
   ]
  },
  {
   "cell_type": "code",
   "execution_count": 1,
   "metadata": {
    "collapsed": true
   },
   "outputs": [],
   "source": [
    "import sqlite3\n",
    "import pandas as pd"
   ]
  },
  {
   "cell_type": "code",
   "execution_count": 2,
   "metadata": {
    "collapsed": false
   },
   "outputs": [
    {
     "name": "stdout",
     "output_type": "stream",
     "text": [
      "Opened database successfully\n"
     ]
    }
   ],
   "source": [
    "# Connect to the database I created in SQLite called OffShoreLeaks\n",
    "conn = sqlite3.connect(\"OffshoreLeaks.db\")\n",
    "\n",
    "print \"Opened database successfully\";"
   ]
  },
  {
   "cell_type": "code",
   "execution_count": 3,
   "metadata": {
    "collapsed": true
   },
   "outputs": [],
   "source": [
    "# Set a function as a sql_to_pandas Exploration\n",
    "\n",
    "def sql_to_df(sql_query):\n",
    "    \n",
    "    # Use pandas to pass sql query using connection from SQLite3\n",
    "    df = pd.read_sql(sql_query, conn)\n",
    "    \n",
    "    # Show the resulting DataFrame\n",
    "    return df"
   ]
  },
  {
   "cell_type": "code",
   "execution_count": null,
   "metadata": {
    "collapsed": false
   },
   "outputs": [],
   "source": []
  },
  {
   "cell_type": "code",
   "execution_count": 4,
   "metadata": {
    "collapsed": false
   },
   "outputs": [
    {
     "data": {
      "text/html": [
       "<div>\n",
       "<table border=\"1\" class=\"dataframe\">\n",
       "  <thead>\n",
       "    <tr style=\"text-align: right;\">\n",
       "      <th></th>\n",
       "      <th>name</th>\n",
       "    </tr>\n",
       "  </thead>\n",
       "  <tbody>\n",
       "    <tr>\n",
       "      <th>0</th>\n",
       "      <td>countriesNW</td>\n",
       "    </tr>\n",
       "    <tr>\n",
       "      <th>1</th>\n",
       "      <td>edgesNW</td>\n",
       "    </tr>\n",
       "    <tr>\n",
       "      <th>2</th>\n",
       "      <td>node_countries</td>\n",
       "    </tr>\n",
       "    <tr>\n",
       "      <th>3</th>\n",
       "      <td>nodes</td>\n",
       "    </tr>\n",
       "  </tbody>\n",
       "</table>\n",
       "</div>"
      ],
      "text/plain": [
       "             name\n",
       "0     countriesNW\n",
       "1         edgesNW\n",
       "2  node_countries\n",
       "3           nodes"
      ]
     },
     "execution_count": 4,
     "metadata": {},
     "output_type": "execute_result"
    }
   ],
   "source": [
    "# Print out the table in the database\n",
    "\n",
    "query = '''SELECT name \n",
    "FROM sqlite_master \n",
    "WHERE type = 'table';'''\n",
    "\n",
    "\n",
    "## Look up sqlite_master\n",
    "\n",
    "sql_to_df(query)"
   ]
  },
  {
   "cell_type": "code",
   "execution_count": 5,
   "metadata": {
    "collapsed": false
   },
   "outputs": [
    {
     "data": {
      "text/html": [
       "<div>\n",
       "<table border=\"1\" class=\"dataframe\">\n",
       "  <thead>\n",
       "    <tr style=\"text-align: right;\">\n",
       "      <th></th>\n",
       "      <th>index</th>\n",
       "      <th>country_id</th>\n",
       "      <th>country_code</th>\n",
       "      <th>country_name</th>\n",
       "    </tr>\n",
       "  </thead>\n",
       "  <tbody>\n",
       "    <tr>\n",
       "      <th>0</th>\n",
       "      <td>0</td>\n",
       "      <td>1</td>\n",
       "      <td>AF</td>\n",
       "      <td>Afghanistan</td>\n",
       "    </tr>\n",
       "    <tr>\n",
       "      <th>1</th>\n",
       "      <td>1</td>\n",
       "      <td>2</td>\n",
       "      <td>AX</td>\n",
       "      <td>Akrotiri</td>\n",
       "    </tr>\n",
       "  </tbody>\n",
       "</table>\n",
       "</div>"
      ],
      "text/plain": [
       "   index  country_id country_code country_name\n",
       "0      0           1           AF  Afghanistan\n",
       "1      1           2           AX     Akrotiri"
      ]
     },
     "execution_count": 5,
     "metadata": {},
     "output_type": "execute_result"
    }
   ],
   "source": [
    "# Explore countries table\n",
    "\n",
    "query = '''SELECT *\n",
    "FROM countriesNW\n",
    "LIMIT 2'''\n",
    "\n",
    "sql_to_df(query)"
   ]
  },
  {
   "cell_type": "code",
   "execution_count": 6,
   "metadata": {
    "collapsed": false
   },
   "outputs": [
    {
     "data": {
      "text/html": [
       "<div>\n",
       "<table border=\"1\" class=\"dataframe\">\n",
       "  <thead>\n",
       "    <tr style=\"text-align: right;\">\n",
       "      <th></th>\n",
       "      <th>COUNT(country_name)</th>\n",
       "    </tr>\n",
       "  </thead>\n",
       "  <tbody>\n",
       "    <tr>\n",
       "      <th>0</th>\n",
       "      <td>276</td>\n",
       "    </tr>\n",
       "  </tbody>\n",
       "</table>\n",
       "</div>"
      ],
      "text/plain": [
       "   COUNT(country_name)\n",
       "0                  276"
      ]
     },
     "execution_count": 6,
     "metadata": {},
     "output_type": "execute_result"
    }
   ],
   "source": [
    "query = '''SELECT COUNT(country_name)\n",
    "FROM countriesNW'''\n",
    "\n",
    "sql_to_df(query)"
   ]
  },
  {
   "cell_type": "code",
   "execution_count": 7,
   "metadata": {
    "collapsed": false
   },
   "outputs": [
    {
     "data": {
      "text/html": [
       "<div>\n",
       "<table border=\"1\" class=\"dataframe\">\n",
       "  <thead>\n",
       "    <tr style=\"text-align: right;\">\n",
       "      <th></th>\n",
       "      <th>COUNT(Distinct(country_name))</th>\n",
       "    </tr>\n",
       "  </thead>\n",
       "  <tbody>\n",
       "    <tr>\n",
       "      <th>0</th>\n",
       "      <td>275</td>\n",
       "    </tr>\n",
       "  </tbody>\n",
       "</table>\n",
       "</div>"
      ],
      "text/plain": [
       "   COUNT(Distinct(country_name))\n",
       "0                            275"
      ]
     },
     "execution_count": 7,
     "metadata": {},
     "output_type": "execute_result"
    }
   ],
   "source": [
    "# Count how many distinct countries there are\n",
    "\n",
    "query = '''SELECT COUNT(Distinct(country_name))\n",
    "FROM countriesNW'''\n",
    "\n",
    "sql_to_df(query)"
   ]
  },
  {
   "cell_type": "code",
   "execution_count": 8,
   "metadata": {
    "collapsed": false
   },
   "outputs": [
    {
     "data": {
      "text/html": [
       "<div>\n",
       "<table border=\"1\" class=\"dataframe\">\n",
       "  <thead>\n",
       "    <tr style=\"text-align: right;\">\n",
       "      <th></th>\n",
       "      <th>index</th>\n",
       "      <th>Unique_ID</th>\n",
       "      <th>subtypes_</th>\n",
       "      <th>Description_</th>\n",
       "      <th>searchField_</th>\n",
       "      <th>status</th>\n",
       "      <th>desc_status</th>\n",
       "      <th>type</th>\n",
       "      <th>desc_company_type</th>\n",
       "      <th>inc_dat</th>\n",
       "      <th>...</th>\n",
       "      <th>agencyID</th>\n",
       "      <th>tax_stat</th>\n",
       "      <th>tax_stat_description</th>\n",
       "      <th>Unnamed: 16</th>\n",
       "      <th>Unnamed: 17</th>\n",
       "      <th>Unnamed: 18</th>\n",
       "      <th>Unnamed: 19</th>\n",
       "      <th>Unnamed: 20</th>\n",
       "      <th>Unnamed: 21</th>\n",
       "      <th>Unnamed: 22</th>\n",
       "    </tr>\n",
       "  </thead>\n",
       "  <tbody>\n",
       "    <tr>\n",
       "      <th>0</th>\n",
       "      <td>0</td>\n",
       "      <td>51113</td>\n",
       "      <td>OFFICER</td>\n",
       "      <td>Bisbro Investment Company Ltd.</td>\n",
       "      <td>Bisbro Investment Company Ltd.</td>\n",
       "      <td>None</td>\n",
       "      <td>None</td>\n",
       "      <td>None</td>\n",
       "      <td>None</td>\n",
       "      <td>None</td>\n",
       "      <td>...</td>\n",
       "      <td>1.0</td>\n",
       "      <td>NaN</td>\n",
       "      <td>NaN</td>\n",
       "      <td>NaN</td>\n",
       "      <td>NaN</td>\n",
       "      <td>NaN</td>\n",
       "      <td>NaN</td>\n",
       "      <td>NaN</td>\n",
       "      <td>NaN</td>\n",
       "      <td>NaN</td>\n",
       "    </tr>\n",
       "    <tr>\n",
       "      <th>1</th>\n",
       "      <td>1</td>\n",
       "      <td>51114</td>\n",
       "      <td>OFFICER</td>\n",
       "      <td>Mohamed Mustafa Bin A Mohamed Ismail</td>\n",
       "      <td>Mohamed Mustafa Bin A Mohamed Ismail</td>\n",
       "      <td>None</td>\n",
       "      <td>None</td>\n",
       "      <td>None</td>\n",
       "      <td>None</td>\n",
       "      <td>None</td>\n",
       "      <td>...</td>\n",
       "      <td>1.0</td>\n",
       "      <td>NaN</td>\n",
       "      <td>NaN</td>\n",
       "      <td>NaN</td>\n",
       "      <td>NaN</td>\n",
       "      <td>NaN</td>\n",
       "      <td>NaN</td>\n",
       "      <td>NaN</td>\n",
       "      <td>NaN</td>\n",
       "      <td>NaN</td>\n",
       "    </tr>\n",
       "  </tbody>\n",
       "</table>\n",
       "<p>2 rows × 24 columns</p>\n",
       "</div>"
      ],
      "text/plain": [
       "   index Unique_ID subtypes_                          Description_  \\\n",
       "0      0     51113   OFFICER        Bisbro Investment Company Ltd.   \n",
       "1      1     51114   OFFICER  Mohamed Mustafa Bin A Mohamed Ismail   \n",
       "\n",
       "                            searchField_ status desc_status  type  \\\n",
       "0        Bisbro Investment Company Ltd.    None        None  None   \n",
       "1  Mohamed Mustafa Bin A Mohamed Ismail    None        None  None   \n",
       "\n",
       "  desc_company_type inc_dat     ...     agencyID tax_stat  \\\n",
       "0              None    None     ...          1.0      NaN   \n",
       "1              None    None     ...          1.0      NaN   \n",
       "\n",
       "  tax_stat_description Unnamed: 16  Unnamed: 17 Unnamed: 18 Unnamed: 19  \\\n",
       "0                  NaN         NaN          NaN         NaN         NaN   \n",
       "1                  NaN         NaN          NaN         NaN         NaN   \n",
       "\n",
       "  Unnamed: 20 Unnamed: 21 Unnamed: 22  \n",
       "0         NaN         NaN         NaN  \n",
       "1         NaN         NaN         NaN  \n",
       "\n",
       "[2 rows x 24 columns]"
      ]
     },
     "execution_count": 8,
     "metadata": {},
     "output_type": "execute_result"
    }
   ],
   "source": [
    "# Explore nodes table\n",
    "\n",
    "query = '''SELECT *\n",
    "FROM nodes\n",
    "LIMIT 2 '''\n",
    "\n",
    "sql_to_df(query)"
   ]
  },
  {
   "cell_type": "code",
   "execution_count": 9,
   "metadata": {
    "collapsed": false
   },
   "outputs": [
    {
     "data": {
      "text/html": [
       "<div>\n",
       "<table border=\"1\" class=\"dataframe\">\n",
       "  <thead>\n",
       "    <tr style=\"text-align: right;\">\n",
       "      <th></th>\n",
       "      <th>COUNT(subtypes_)</th>\n",
       "    </tr>\n",
       "  </thead>\n",
       "  <tbody>\n",
       "    <tr>\n",
       "      <th>0</th>\n",
       "      <td>278973</td>\n",
       "    </tr>\n",
       "  </tbody>\n",
       "</table>\n",
       "</div>"
      ],
      "text/plain": [
       "   COUNT(subtypes_)\n",
       "0            278973"
      ]
     },
     "execution_count": 9,
     "metadata": {},
     "output_type": "execute_result"
    }
   ],
   "source": [
    "query = '''SELECT COUNT(subtypes_)\n",
    "FROM nodes'''\n",
    "\n",
    "sql_to_df(query)"
   ]
  },
  {
   "cell_type": "code",
   "execution_count": 12,
   "metadata": {
    "collapsed": false
   },
   "outputs": [
    {
     "data": {
      "text/html": [
       "<div>\n",
       "<table border=\"1\" class=\"dataframe\">\n",
       "  <thead>\n",
       "    <tr style=\"text-align: right;\">\n",
       "      <th></th>\n",
       "      <th>ID</th>\n",
       "    </tr>\n",
       "  </thead>\n",
       "  <tbody>\n",
       "    <tr>\n",
       "      <th>0</th>\n",
       "      <td>278902</td>\n",
       "    </tr>\n",
       "  </tbody>\n",
       "</table>\n",
       "</div>"
      ],
      "text/plain": [
       "       ID\n",
       "0  278902"
      ]
     },
     "execution_count": 12,
     "metadata": {},
     "output_type": "execute_result"
    }
   ],
   "source": [
    "def ensure_unicode(v):\n",
    "    if isinstance(v, str):\n",
    "        v = v.decode('utf8')\n",
    "    return unicode(v)  # convert anything not a string to unicode too\n",
    "\n",
    "\n",
    "\n",
    "\n",
    "\n",
    "query = '''SELECT COUNT(DISTINCT(Unique_ID)) AS ID\n",
    "FROM nodes'''\n",
    "\n",
    "sql_to_df(query)"
   ]
  },
  {
   "cell_type": "code",
   "execution_count": 13,
   "metadata": {
    "collapsed": false
   },
   "outputs": [
    {
     "data": {
      "text/html": [
       "<div>\n",
       "<table border=\"1\" class=\"dataframe\">\n",
       "  <thead>\n",
       "    <tr style=\"text-align: right;\">\n",
       "      <th></th>\n",
       "      <th>index</th>\n",
       "      <th>NODEID1</th>\n",
       "      <th>country_code</th>\n",
       "      <th>country_name</th>\n",
       "      <th>country_id</th>\n",
       "    </tr>\n",
       "  </thead>\n",
       "  <tbody>\n",
       "    <tr>\n",
       "      <th>0</th>\n",
       "      <td>0</td>\n",
       "      <td>118720</td>\n",
       "      <td>HK</td>\n",
       "      <td>Hong Kong</td>\n",
       "      <td>110.0</td>\n",
       "    </tr>\n",
       "    <tr>\n",
       "      <th>1</th>\n",
       "      <td>1</td>\n",
       "      <td>118722</td>\n",
       "      <td>HK</td>\n",
       "      <td>Hong Kong</td>\n",
       "      <td>110.0</td>\n",
       "    </tr>\n",
       "  </tbody>\n",
       "</table>\n",
       "</div>"
      ],
      "text/plain": [
       "   index  NODEID1 country_code country_name  country_id\n",
       "0      0   118720           HK    Hong Kong       110.0\n",
       "1      1   118722           HK    Hong Kong       110.0"
      ]
     },
     "execution_count": 13,
     "metadata": {},
     "output_type": "execute_result"
    }
   ],
   "source": [
    "# Explore nodes table\n",
    "\n",
    "query = '''SELECT *\n",
    "FROM node_countries\n",
    "LIMIT 2 '''\n",
    "\n",
    "sql_to_df(query)"
   ]
  },
  {
   "cell_type": "code",
   "execution_count": 17,
   "metadata": {
    "collapsed": false
   },
   "outputs": [
    {
     "data": {
      "text/html": [
       "<div>\n",
       "<table border=\"1\" class=\"dataframe\">\n",
       "  <thead>\n",
       "    <tr style=\"text-align: right;\">\n",
       "      <th></th>\n",
       "      <th>Count(Distinct(Country_name))</th>\n",
       "    </tr>\n",
       "  </thead>\n",
       "  <tbody>\n",
       "    <tr>\n",
       "      <th>0</th>\n",
       "      <td>174</td>\n",
       "    </tr>\n",
       "  </tbody>\n",
       "</table>\n",
       "</div>"
      ],
      "text/plain": [
       "   Count(Distinct(Country_name))\n",
       "0                            174"
      ]
     },
     "execution_count": 17,
     "metadata": {},
     "output_type": "execute_result"
    }
   ],
   "source": [
    "# Explore node_countries table\n",
    "\n",
    "query = '''SELECT Count(Distinct(Country_name))\n",
    "FROM node_countries\n",
    "'''\n",
    "\n",
    "sql_to_df(query)"
   ]
  },
  {
   "cell_type": "code",
   "execution_count": 18,
   "metadata": {
    "collapsed": false
   },
   "outputs": [
    {
     "data": {
      "text/html": [
       "<div>\n",
       "<table border=\"1\" class=\"dataframe\">\n",
       "  <thead>\n",
       "    <tr style=\"text-align: right;\">\n",
       "      <th></th>\n",
       "      <th>index</th>\n",
       "      <th>Unique_ID</th>\n",
       "      <th>Entity_ID1</th>\n",
       "      <th>Entity_ID2</th>\n",
       "      <th>description_</th>\n",
       "      <th>date_from</th>\n",
       "      <th>date_to</th>\n",
       "      <th>direction</th>\n",
       "      <th>linkType</th>\n",
       "    </tr>\n",
       "  </thead>\n",
       "  <tbody>\n",
       "    <tr>\n",
       "      <th>0</th>\n",
       "      <td>0</td>\n",
       "      <td>171253</td>\n",
       "      <td>102767</td>\n",
       "      <td>124901</td>\n",
       "      <td>Assistant Secretary</td>\n",
       "      <td>None</td>\n",
       "      <td>None</td>\n",
       "      <td>1</td>\n",
       "      <td>EO</td>\n",
       "    </tr>\n",
       "    <tr>\n",
       "      <th>1</th>\n",
       "      <td>1</td>\n",
       "      <td>336222</td>\n",
       "      <td>118470</td>\n",
       "      <td>167808</td>\n",
       "      <td>Auditor</td>\n",
       "      <td>None</td>\n",
       "      <td>None</td>\n",
       "      <td>1</td>\n",
       "      <td>EO</td>\n",
       "    </tr>\n",
       "  </tbody>\n",
       "</table>\n",
       "</div>"
      ],
      "text/plain": [
       "   index  Unique_ID  Entity_ID1  Entity_ID2         description_ date_from  \\\n",
       "0      0     171253      102767      124901  Assistant Secretary      None   \n",
       "1      1     336222      118470      167808              Auditor      None   \n",
       "\n",
       "  date_to  direction linkType  \n",
       "0    None          1       EO  \n",
       "1    None          1       EO  "
      ]
     },
     "execution_count": 18,
     "metadata": {},
     "output_type": "execute_result"
    }
   ],
   "source": [
    "# Explore edgesNW table\n",
    "\n",
    "query = '''SELECT *\n",
    "FROM edgesNW\n",
    "LIMIT 2 '''\n",
    "\n",
    "sql_to_df(query)"
   ]
  },
  {
   "cell_type": "code",
   "execution_count": 20,
   "metadata": {
    "collapsed": false
   },
   "outputs": [
    {
     "data": {
      "text/html": [
       "<div>\n",
       "<table border=\"1\" class=\"dataframe\">\n",
       "  <thead>\n",
       "    <tr style=\"text-align: right;\">\n",
       "      <th></th>\n",
       "      <th>Count(Distinct(description_))</th>\n",
       "    </tr>\n",
       "  </thead>\n",
       "  <tbody>\n",
       "    <tr>\n",
       "      <th>0</th>\n",
       "      <td>53</td>\n",
       "    </tr>\n",
       "  </tbody>\n",
       "</table>\n",
       "</div>"
      ],
      "text/plain": [
       "   Count(Distinct(description_))\n",
       "0                             53"
      ]
     },
     "execution_count": 20,
     "metadata": {},
     "output_type": "execute_result"
    }
   ],
   "source": [
    "query = '''SELECT Count(Distinct(description_))\n",
    "FROM edgesNW\n",
    "'''\n",
    "\n",
    "sql_to_df(query)"
   ]
  },
  {
   "cell_type": "code",
   "execution_count": 24,
   "metadata": {
    "collapsed": false
   },
   "outputs": [
    {
     "name": "stdout",
     "output_type": "stream",
     "text": [
      "   Count(Distinct(Country_name))\n",
      "0                            174\n",
      "   COUNT(Distinct(Country_name))\n",
      "0                            275\n"
     ]
    }
   ],
   "source": [
    "# Notice that node_counties has 174 unqiue Country names while contriesNW has 275 unique Country Names\n",
    "\n",
    "query = '''SELECT Count(Distinct(Country_name))\n",
    "FROM node_countries\n",
    "'''\n",
    "\n",
    "print(sql_to_df(query))\n",
    "\n",
    "query = '''SELECT COUNT(Distinct(Country_name))\n",
    "FROM countriesNW'''\n",
    "\n",
    "print(sql_to_df(query))"
   ]
  },
  {
   "cell_type": "code",
   "execution_count": 29,
   "metadata": {
    "collapsed": false
   },
   "outputs": [
    {
     "data": {
      "text/html": [
       "<div>\n",
       "<table border=\"1\" class=\"dataframe\">\n",
       "  <thead>\n",
       "    <tr style=\"text-align: right;\">\n",
       "      <th></th>\n",
       "      <th>country_name</th>\n",
       "    </tr>\n",
       "  </thead>\n",
       "  <tbody>\n",
       "    <tr>\n",
       "      <th>0</th>\n",
       "      <td>Afghanistan</td>\n",
       "    </tr>\n",
       "    <tr>\n",
       "      <th>1</th>\n",
       "      <td>Akrotiri</td>\n",
       "    </tr>\n",
       "    <tr>\n",
       "      <th>2</th>\n",
       "      <td>Albania</td>\n",
       "    </tr>\n",
       "    <tr>\n",
       "      <th>3</th>\n",
       "      <td>American Samoa</td>\n",
       "    </tr>\n",
       "    <tr>\n",
       "      <th>4</th>\n",
       "      <td>Antarctica</td>\n",
       "    </tr>\n",
       "    <tr>\n",
       "      <th>5</th>\n",
       "      <td>Aruba</td>\n",
       "    </tr>\n",
       "    <tr>\n",
       "      <th>6</th>\n",
       "      <td>Ashmore and Cartier Islands</td>\n",
       "    </tr>\n",
       "    <tr>\n",
       "      <th>7</th>\n",
       "      <td>Baker Island</td>\n",
       "    </tr>\n",
       "    <tr>\n",
       "      <th>8</th>\n",
       "      <td>Bassas da India</td>\n",
       "    </tr>\n",
       "    <tr>\n",
       "      <th>9</th>\n",
       "      <td>Bolivia</td>\n",
       "    </tr>\n",
       "    <tr>\n",
       "      <th>10</th>\n",
       "      <td>Bouvet Island</td>\n",
       "    </tr>\n",
       "    <tr>\n",
       "      <th>11</th>\n",
       "      <td>British Indian Ocean Territory</td>\n",
       "    </tr>\n",
       "    <tr>\n",
       "      <th>12</th>\n",
       "      <td>Burkina Faso</td>\n",
       "    </tr>\n",
       "    <tr>\n",
       "      <th>13</th>\n",
       "      <td>Burma</td>\n",
       "    </tr>\n",
       "    <tr>\n",
       "      <th>14</th>\n",
       "      <td>Burundi</td>\n",
       "    </tr>\n",
       "    <tr>\n",
       "      <th>15</th>\n",
       "      <td>CA te dIvoire</td>\n",
       "    </tr>\n",
       "    <tr>\n",
       "      <th>16</th>\n",
       "      <td>Cameroon</td>\n",
       "    </tr>\n",
       "    <tr>\n",
       "      <th>17</th>\n",
       "      <td>Cape Verde</td>\n",
       "    </tr>\n",
       "    <tr>\n",
       "      <th>18</th>\n",
       "      <td>Central African Republic</td>\n",
       "    </tr>\n",
       "    <tr>\n",
       "      <th>19</th>\n",
       "      <td>Chad</td>\n",
       "    </tr>\n",
       "    <tr>\n",
       "      <th>20</th>\n",
       "      <td>Christmas Island</td>\n",
       "    </tr>\n",
       "    <tr>\n",
       "      <th>21</th>\n",
       "      <td>Clipperton Island</td>\n",
       "    </tr>\n",
       "    <tr>\n",
       "      <th>22</th>\n",
       "      <td>Cocos (Keeling) Islands</td>\n",
       "    </tr>\n",
       "    <tr>\n",
       "      <th>23</th>\n",
       "      <td>Comoros</td>\n",
       "    </tr>\n",
       "    <tr>\n",
       "      <th>24</th>\n",
       "      <td>Coral Sea Islands</td>\n",
       "    </tr>\n",
       "    <tr>\n",
       "      <th>25</th>\n",
       "      <td>Cuba</td>\n",
       "    </tr>\n",
       "    <tr>\n",
       "      <th>26</th>\n",
       "      <td>CuraAao</td>\n",
       "    </tr>\n",
       "    <tr>\n",
       "      <th>27</th>\n",
       "      <td>Dhekelia</td>\n",
       "    </tr>\n",
       "    <tr>\n",
       "      <th>28</th>\n",
       "      <td>Equatorial Guinea</td>\n",
       "    </tr>\n",
       "    <tr>\n",
       "      <th>29</th>\n",
       "      <td>Eritrea</td>\n",
       "    </tr>\n",
       "    <tr>\n",
       "      <th>...</th>\n",
       "      <td>...</td>\n",
       "    </tr>\n",
       "    <tr>\n",
       "      <th>77</th>\n",
       "      <td>Saint Helena</td>\n",
       "    </tr>\n",
       "    <tr>\n",
       "      <th>78</th>\n",
       "      <td>Saint Pierre and Miquelon</td>\n",
       "    </tr>\n",
       "    <tr>\n",
       "      <th>79</th>\n",
       "      <td>San Marino</td>\n",
       "    </tr>\n",
       "    <tr>\n",
       "      <th>80</th>\n",
       "      <td>Sao Tome and Principe</td>\n",
       "    </tr>\n",
       "    <tr>\n",
       "      <th>81</th>\n",
       "      <td>Senegal</td>\n",
       "    </tr>\n",
       "    <tr>\n",
       "      <th>82</th>\n",
       "      <td>Sint Maarten</td>\n",
       "    </tr>\n",
       "    <tr>\n",
       "      <th>83</th>\n",
       "      <td>Solomon Islands</td>\n",
       "    </tr>\n",
       "    <tr>\n",
       "      <th>84</th>\n",
       "      <td>Somalia</td>\n",
       "    </tr>\n",
       "    <tr>\n",
       "      <th>85</th>\n",
       "      <td>South Georgia and South Sandwich Islands</td>\n",
       "    </tr>\n",
       "    <tr>\n",
       "      <th>86</th>\n",
       "      <td>South Sudan</td>\n",
       "    </tr>\n",
       "    <tr>\n",
       "      <th>87</th>\n",
       "      <td>Spratly Islands</td>\n",
       "    </tr>\n",
       "    <tr>\n",
       "      <th>88</th>\n",
       "      <td>Sudan</td>\n",
       "    </tr>\n",
       "    <tr>\n",
       "      <th>89</th>\n",
       "      <td>Svalbard</td>\n",
       "    </tr>\n",
       "    <tr>\n",
       "      <th>90</th>\n",
       "      <td>Swaziland</td>\n",
       "    </tr>\n",
       "    <tr>\n",
       "      <th>91</th>\n",
       "      <td>Timor-Leste</td>\n",
       "    </tr>\n",
       "    <tr>\n",
       "      <th>92</th>\n",
       "      <td>Togo</td>\n",
       "    </tr>\n",
       "    <tr>\n",
       "      <th>93</th>\n",
       "      <td>Tokelau</td>\n",
       "    </tr>\n",
       "    <tr>\n",
       "      <th>94</th>\n",
       "      <td>Tromelin Island</td>\n",
       "    </tr>\n",
       "    <tr>\n",
       "      <th>95</th>\n",
       "      <td>Tunisia</td>\n",
       "    </tr>\n",
       "    <tr>\n",
       "      <th>96</th>\n",
       "      <td>Tuvalu</td>\n",
       "    </tr>\n",
       "    <tr>\n",
       "      <th>97</th>\n",
       "      <td>US Virgin Islands</td>\n",
       "    </tr>\n",
       "    <tr>\n",
       "      <th>98</th>\n",
       "      <td>Uganda</td>\n",
       "    </tr>\n",
       "    <tr>\n",
       "      <th>99</th>\n",
       "      <td>Undersea Features</td>\n",
       "    </tr>\n",
       "    <tr>\n",
       "      <th>100</th>\n",
       "      <td>Vatican City</td>\n",
       "    </tr>\n",
       "    <tr>\n",
       "      <th>101</th>\n",
       "      <td>Wake Island</td>\n",
       "    </tr>\n",
       "    <tr>\n",
       "      <th>102</th>\n",
       "      <td>Wallis and Futuna</td>\n",
       "    </tr>\n",
       "    <tr>\n",
       "      <th>103</th>\n",
       "      <td>West Bank</td>\n",
       "    </tr>\n",
       "    <tr>\n",
       "      <th>104</th>\n",
       "      <td>Western Sahara</td>\n",
       "    </tr>\n",
       "    <tr>\n",
       "      <th>105</th>\n",
       "      <td>Yemen</td>\n",
       "    </tr>\n",
       "    <tr>\n",
       "      <th>106</th>\n",
       "      <td>Zambia</td>\n",
       "    </tr>\n",
       "  </tbody>\n",
       "</table>\n",
       "<p>107 rows × 1 columns</p>\n",
       "</div>"
      ],
      "text/plain": [
       "                                 country_name\n",
       "0                                 Afghanistan\n",
       "1                                    Akrotiri\n",
       "2                                     Albania\n",
       "3                              American Samoa\n",
       "4                                  Antarctica\n",
       "5                                       Aruba\n",
       "6                 Ashmore and Cartier Islands\n",
       "7                                Baker Island\n",
       "8                             Bassas da India\n",
       "9                                     Bolivia\n",
       "10                              Bouvet Island\n",
       "11             British Indian Ocean Territory\n",
       "12                               Burkina Faso\n",
       "13                                      Burma\n",
       "14                                    Burundi\n",
       "15                              CA te dIvoire\n",
       "16                                   Cameroon\n",
       "17                                 Cape Verde\n",
       "18                   Central African Republic\n",
       "19                                       Chad\n",
       "20                           Christmas Island\n",
       "21                          Clipperton Island\n",
       "22                    Cocos (Keeling) Islands\n",
       "23                                    Comoros\n",
       "24                          Coral Sea Islands\n",
       "25                                       Cuba\n",
       "26                                    CuraAao\n",
       "27                                   Dhekelia\n",
       "28                          Equatorial Guinea\n",
       "29                                    Eritrea\n",
       "..                                        ...\n",
       "77                               Saint Helena\n",
       "78                  Saint Pierre and Miquelon\n",
       "79                                 San Marino\n",
       "80                      Sao Tome and Principe\n",
       "81                                    Senegal\n",
       "82                               Sint Maarten\n",
       "83                            Solomon Islands\n",
       "84                                    Somalia\n",
       "85   South Georgia and South Sandwich Islands\n",
       "86                                South Sudan\n",
       "87                            Spratly Islands\n",
       "88                                      Sudan\n",
       "89                                   Svalbard\n",
       "90                                  Swaziland\n",
       "91                                Timor-Leste\n",
       "92                                       Togo\n",
       "93                                    Tokelau\n",
       "94                            Tromelin Island\n",
       "95                                    Tunisia\n",
       "96                                     Tuvalu\n",
       "97                          US Virgin Islands\n",
       "98                                     Uganda\n",
       "99                          Undersea Features\n",
       "100                              Vatican City\n",
       "101                               Wake Island\n",
       "102                         Wallis and Futuna\n",
       "103                                 West Bank\n",
       "104                            Western Sahara\n",
       "105                                     Yemen\n",
       "106                                    Zambia\n",
       "\n",
       "[107 rows x 1 columns]"
      ]
     },
     "execution_count": 29,
     "metadata": {},
     "output_type": "execute_result"
    }
   ],
   "source": [
    "# First question, what countries are in the countiesNW table but are not considered node countries?\n",
    "\n",
    "query = '''SELECT DISTINCT(countriesNW.country_name)\n",
    "FROM countriesNW\n",
    "LEFT JOIN node_countries\n",
    "ON node_countries.country_name = countriesNW.country_name\n",
    "WHERE node_countries.country_name IS NULL'''\n",
    "\n",
    "sql_to_df(query)   # Expecting somewhere around 101 since 275-174 =101. Number of records is 107\n",
    "\n",
    "# These are countries that are not node_countries"
   ]
  },
  {
   "cell_type": "code",
   "execution_count": 31,
   "metadata": {
    "collapsed": false
   },
   "outputs": [
    {
     "data": {
      "text/html": [
       "<div>\n",
       "<table border=\"1\" class=\"dataframe\">\n",
       "  <thead>\n",
       "    <tr style=\"text-align: right;\">\n",
       "      <th></th>\n",
       "      <th>country_name</th>\n",
       "    </tr>\n",
       "  </thead>\n",
       "  <tbody>\n",
       "  </tbody>\n",
       "</table>\n",
       "</div>"
      ],
      "text/plain": [
       "Empty DataFrame\n",
       "Columns: [country_name]\n",
       "Index: []"
      ]
     },
     "execution_count": 31,
     "metadata": {},
     "output_type": "execute_result"
    }
   ],
   "source": [
    "## Check my SQL, expecting zero\n",
    "query = '''SELECT Country_name\n",
    "FROM node_countries\n",
    "WHERE Country_name = 'Afghanistan' '''\n",
    "\n",
    "sql_to_df(query) \n",
    "\n",
    "# In the actual database it states 0 rows returned in 396ms from:"
   ]
  },
  {
   "cell_type": "code",
   "execution_count": 32,
   "metadata": {
    "collapsed": false
   },
   "outputs": [
    {
     "data": {
      "text/html": [
       "<div>\n",
       "<table border=\"1\" class=\"dataframe\">\n",
       "  <thead>\n",
       "    <tr style=\"text-align: right;\">\n",
       "      <th></th>\n",
       "      <th>index</th>\n",
       "      <th>NODEID1</th>\n",
       "      <th>country_code</th>\n",
       "      <th>country_name</th>\n",
       "      <th>country_id</th>\n",
       "    </tr>\n",
       "  </thead>\n",
       "  <tbody>\n",
       "    <tr>\n",
       "      <th>0</th>\n",
       "      <td>0</td>\n",
       "      <td>118720</td>\n",
       "      <td>HK</td>\n",
       "      <td>Hong Kong</td>\n",
       "      <td>110.0</td>\n",
       "    </tr>\n",
       "    <tr>\n",
       "      <th>1</th>\n",
       "      <td>1</td>\n",
       "      <td>118722</td>\n",
       "      <td>HK</td>\n",
       "      <td>Hong Kong</td>\n",
       "      <td>110.0</td>\n",
       "    </tr>\n",
       "    <tr>\n",
       "      <th>2</th>\n",
       "      <td>2</td>\n",
       "      <td>118725</td>\n",
       "      <td>TW</td>\n",
       "      <td>Taiwan</td>\n",
       "      <td>241.0</td>\n",
       "    </tr>\n",
       "    <tr>\n",
       "      <th>3</th>\n",
       "      <td>3</td>\n",
       "      <td>118726</td>\n",
       "      <td>TW</td>\n",
       "      <td>Taiwan</td>\n",
       "      <td>241.0</td>\n",
       "    </tr>\n",
       "    <tr>\n",
       "      <th>4</th>\n",
       "      <td>4</td>\n",
       "      <td>118753</td>\n",
       "      <td>HK</td>\n",
       "      <td>Hong Kong</td>\n",
       "      <td>110.0</td>\n",
       "    </tr>\n",
       "  </tbody>\n",
       "</table>\n",
       "</div>"
      ],
      "text/plain": [
       "   index  NODEID1 country_code country_name  country_id\n",
       "0      0   118720           HK    Hong Kong       110.0\n",
       "1      1   118722           HK    Hong Kong       110.0\n",
       "2      2   118725           TW       Taiwan       241.0\n",
       "3      3   118726           TW       Taiwan       241.0\n",
       "4      4   118753           HK    Hong Kong       110.0"
      ]
     },
     "execution_count": 32,
     "metadata": {},
     "output_type": "execute_result"
    }
   ],
   "source": [
    "### Explore the node countries more\n",
    "\n",
    "query = '''SELECT *\n",
    "FROM node_countries\n",
    "LIMIT 5'''\n",
    "\n",
    "sql_to_df(query)"
   ]
  },
  {
   "cell_type": "code",
   "execution_count": 34,
   "metadata": {
    "collapsed": false
   },
   "outputs": [
    {
     "data": {
      "text/html": [
       "<div>\n",
       "<table border=\"1\" class=\"dataframe\">\n",
       "  <thead>\n",
       "    <tr style=\"text-align: right;\">\n",
       "      <th></th>\n",
       "      <th>COUNTRY</th>\n",
       "      <th>Number_of_Appearances</th>\n",
       "    </tr>\n",
       "  </thead>\n",
       "  <tbody>\n",
       "    <tr>\n",
       "      <th>0</th>\n",
       "      <td>Algeria</td>\n",
       "      <td>6</td>\n",
       "    </tr>\n",
       "    <tr>\n",
       "      <th>1</th>\n",
       "      <td>Andorra</td>\n",
       "      <td>13</td>\n",
       "    </tr>\n",
       "    <tr>\n",
       "      <th>2</th>\n",
       "      <td>Angola</td>\n",
       "      <td>2</td>\n",
       "    </tr>\n",
       "    <tr>\n",
       "      <th>3</th>\n",
       "      <td>Anguilla</td>\n",
       "      <td>28</td>\n",
       "    </tr>\n",
       "    <tr>\n",
       "      <th>4</th>\n",
       "      <td>Antigua and Barbuda</td>\n",
       "      <td>300</td>\n",
       "    </tr>\n",
       "    <tr>\n",
       "      <th>5</th>\n",
       "      <td>Argentina</td>\n",
       "      <td>64</td>\n",
       "    </tr>\n",
       "    <tr>\n",
       "      <th>6</th>\n",
       "      <td>Armenia</td>\n",
       "      <td>18</td>\n",
       "    </tr>\n",
       "    <tr>\n",
       "      <th>7</th>\n",
       "      <td>Australia</td>\n",
       "      <td>1425</td>\n",
       "    </tr>\n",
       "    <tr>\n",
       "      <th>8</th>\n",
       "      <td>Austria</td>\n",
       "      <td>123</td>\n",
       "    </tr>\n",
       "    <tr>\n",
       "      <th>9</th>\n",
       "      <td>Azerbaijan</td>\n",
       "      <td>74</td>\n",
       "    </tr>\n",
       "  </tbody>\n",
       "</table>\n",
       "</div>"
      ],
      "text/plain": [
       "               COUNTRY  Number_of_Appearances\n",
       "0              Algeria                      6\n",
       "1              Andorra                     13\n",
       "2               Angola                      2\n",
       "3             Anguilla                     28\n",
       "4  Antigua and Barbuda                    300\n",
       "5            Argentina                     64\n",
       "6              Armenia                     18\n",
       "7            Australia                   1425\n",
       "8              Austria                    123\n",
       "9           Azerbaijan                     74"
      ]
     },
     "execution_count": 34,
     "metadata": {},
     "output_type": "execute_result"
    }
   ],
   "source": [
    "# How many times do each of the node countries show up\n",
    "query = '''SELECT Country_name AS COUNTRY, COUNT(Country_name) AS Number_of_Appearances\n",
    "FROM node_countries\n",
    "GROUP BY Country_name\n",
    "Limit 10'''\n",
    "\n",
    "sql_to_df(query)"
   ]
  },
  {
   "cell_type": "code",
   "execution_count": 38,
   "metadata": {
    "collapsed": false
   },
   "outputs": [
    {
     "data": {
      "text/html": [
       "<div>\n",
       "<table border=\"1\" class=\"dataframe\">\n",
       "  <thead>\n",
       "    <tr style=\"text-align: right;\">\n",
       "      <th></th>\n",
       "      <th>COUNTRY</th>\n",
       "      <th>Number_of_Appearances</th>\n",
       "    </tr>\n",
       "  </thead>\n",
       "  <tbody>\n",
       "    <tr>\n",
       "      <th>0</th>\n",
       "      <td>Australia</td>\n",
       "      <td>1425</td>\n",
       "    </tr>\n",
       "    <tr>\n",
       "      <th>1</th>\n",
       "      <td>British Virgin Islands</td>\n",
       "      <td>72677</td>\n",
       "    </tr>\n",
       "    <tr>\n",
       "      <th>2</th>\n",
       "      <td>Canada</td>\n",
       "      <td>1848</td>\n",
       "    </tr>\n",
       "    <tr>\n",
       "      <th>3</th>\n",
       "      <td>Cayman Islands</td>\n",
       "      <td>3144</td>\n",
       "    </tr>\n",
       "    <tr>\n",
       "      <th>4</th>\n",
       "      <td>China</td>\n",
       "      <td>17776</td>\n",
       "    </tr>\n",
       "    <tr>\n",
       "      <th>5</th>\n",
       "      <td>Cook Islands</td>\n",
       "      <td>1118</td>\n",
       "    </tr>\n",
       "    <tr>\n",
       "      <th>6</th>\n",
       "      <td>Cyprus</td>\n",
       "      <td>4718</td>\n",
       "    </tr>\n",
       "    <tr>\n",
       "      <th>7</th>\n",
       "      <td>Hong Kong</td>\n",
       "      <td>40406</td>\n",
       "    </tr>\n",
       "    <tr>\n",
       "      <th>8</th>\n",
       "      <td>India</td>\n",
       "      <td>1180</td>\n",
       "    </tr>\n",
       "    <tr>\n",
       "      <th>9</th>\n",
       "      <td>Indonesia</td>\n",
       "      <td>5404</td>\n",
       "    </tr>\n",
       "    <tr>\n",
       "      <th>10</th>\n",
       "      <td>Ireland</td>\n",
       "      <td>1719</td>\n",
       "    </tr>\n",
       "    <tr>\n",
       "      <th>11</th>\n",
       "      <td>Japan</td>\n",
       "      <td>1004</td>\n",
       "    </tr>\n",
       "    <tr>\n",
       "      <th>12</th>\n",
       "      <td>Latvia</td>\n",
       "      <td>1695</td>\n",
       "    </tr>\n",
       "    <tr>\n",
       "      <th>13</th>\n",
       "      <td>Malaysia</td>\n",
       "      <td>3807</td>\n",
       "    </tr>\n",
       "    <tr>\n",
       "      <th>14</th>\n",
       "      <td>Not identified</td>\n",
       "      <td>65912</td>\n",
       "    </tr>\n",
       "    <tr>\n",
       "      <th>15</th>\n",
       "      <td>Panama</td>\n",
       "      <td>2829</td>\n",
       "    </tr>\n",
       "    <tr>\n",
       "      <th>16</th>\n",
       "      <td>Russia</td>\n",
       "      <td>11734</td>\n",
       "    </tr>\n",
       "    <tr>\n",
       "      <th>17</th>\n",
       "      <td>Samoa</td>\n",
       "      <td>8778</td>\n",
       "    </tr>\n",
       "    <tr>\n",
       "      <th>18</th>\n",
       "      <td>Seychelles</td>\n",
       "      <td>1157</td>\n",
       "    </tr>\n",
       "    <tr>\n",
       "      <th>19</th>\n",
       "      <td>Singapore</td>\n",
       "      <td>10615</td>\n",
       "    </tr>\n",
       "    <tr>\n",
       "      <th>20</th>\n",
       "      <td>Taiwan</td>\n",
       "      <td>29327</td>\n",
       "    </tr>\n",
       "    <tr>\n",
       "      <th>21</th>\n",
       "      <td>Thailand</td>\n",
       "      <td>1464</td>\n",
       "    </tr>\n",
       "    <tr>\n",
       "      <th>22</th>\n",
       "      <td>United Arab Emirates</td>\n",
       "      <td>1305</td>\n",
       "    </tr>\n",
       "    <tr>\n",
       "      <th>23</th>\n",
       "      <td>United Kingdom</td>\n",
       "      <td>10117</td>\n",
       "    </tr>\n",
       "    <tr>\n",
       "      <th>24</th>\n",
       "      <td>United States</td>\n",
       "      <td>11490</td>\n",
       "    </tr>\n",
       "  </tbody>\n",
       "</table>\n",
       "</div>"
      ],
      "text/plain": [
       "                   COUNTRY  Number_of_Appearances\n",
       "0                Australia                   1425\n",
       "1   British Virgin Islands                  72677\n",
       "2                   Canada                   1848\n",
       "3           Cayman Islands                   3144\n",
       "4                    China                  17776\n",
       "5             Cook Islands                   1118\n",
       "6                   Cyprus                   4718\n",
       "7                Hong Kong                  40406\n",
       "8                    India                   1180\n",
       "9                Indonesia                   5404\n",
       "10                 Ireland                   1719\n",
       "11                   Japan                   1004\n",
       "12                  Latvia                   1695\n",
       "13                Malaysia                   3807\n",
       "14          Not identified                  65912\n",
       "15                  Panama                   2829\n",
       "16                  Russia                  11734\n",
       "17                   Samoa                   8778\n",
       "18              Seychelles                   1157\n",
       "19               Singapore                  10615\n",
       "20                  Taiwan                  29327\n",
       "21                Thailand                   1464\n",
       "22    United Arab Emirates                   1305\n",
       "23          United Kingdom                  10117\n",
       "24           United States                  11490"
      ]
     },
     "execution_count": 38,
     "metadata": {},
     "output_type": "execute_result"
    }
   ],
   "source": [
    "query = '''SELECT Country_name AS COUNTRY, COUNT(Country_name) AS Number_of_Appearances\n",
    "FROM node_countries\n",
    "GROUP BY Country_name\n",
    "Having COUNT(Country_name) > 1000;\n",
    "'''\n",
    "\n",
    "sql_to_df(query)"
   ]
  },
  {
   "cell_type": "code",
   "execution_count": 42,
   "metadata": {
    "collapsed": false
   },
   "outputs": [],
   "source": [
    "# Within the SQLITE database this query works with 94 unique values in the subtypes column of the nodes table\n",
    "\n",
    "#query = '''SELECT Distinct(subtypes_)\n",
    "#FROM nodes;'''\n",
    "\n",
    "#There is some special characters\n",
    "\n",
    "#sql_to_df(query)"
   ]
  },
  {
   "cell_type": "code",
   "execution_count": 43,
   "metadata": {
    "collapsed": false
   },
   "outputs": [
    {
     "data": {
      "text/html": [
       "<div>\n",
       "<table border=\"1\" class=\"dataframe\">\n",
       "  <thead>\n",
       "    <tr style=\"text-align: right;\">\n",
       "      <th></th>\n",
       "      <th>desc_jurisdiction</th>\n",
       "    </tr>\n",
       "  </thead>\n",
       "  <tbody>\n",
       "    <tr>\n",
       "      <th>0</th>\n",
       "      <td>None</td>\n",
       "    </tr>\n",
       "    <tr>\n",
       "      <th>1</th>\n",
       "      <td>BBC</td>\n",
       "    </tr>\n",
       "    <tr>\n",
       "      <th>2</th>\n",
       "      <td>Bahamas</td>\n",
       "    </tr>\n",
       "    <tr>\n",
       "      <th>3</th>\n",
       "      <td>Bermuda</td>\n",
       "    </tr>\n",
       "    <tr>\n",
       "      <th>4</th>\n",
       "      <td>British Virgin Islands</td>\n",
       "    </tr>\n",
       "    <tr>\n",
       "      <th>5</th>\n",
       "      <td>Brunei</td>\n",
       "    </tr>\n",
       "    <tr>\n",
       "      <th>6</th>\n",
       "      <td>Cayman</td>\n",
       "    </tr>\n",
       "    <tr>\n",
       "      <th>7</th>\n",
       "      <td>China</td>\n",
       "    </tr>\n",
       "    <tr>\n",
       "      <th>8</th>\n",
       "      <td>Cook Islands</td>\n",
       "    </tr>\n",
       "    <tr>\n",
       "      <th>9</th>\n",
       "      <td>Cyprus</td>\n",
       "    </tr>\n",
       "    <tr>\n",
       "      <th>10</th>\n",
       "      <td>Dubai</td>\n",
       "    </tr>\n",
       "    <tr>\n",
       "      <th>11</th>\n",
       "      <td>Fund Administration</td>\n",
       "    </tr>\n",
       "    <tr>\n",
       "      <th>12</th>\n",
       "      <td>Hong Kong</td>\n",
       "    </tr>\n",
       "    <tr>\n",
       "      <th>13</th>\n",
       "      <td>Ireland</td>\n",
       "    </tr>\n",
       "    <tr>\n",
       "      <th>14</th>\n",
       "      <td>Labuan</td>\n",
       "    </tr>\n",
       "    <tr>\n",
       "      <th>15</th>\n",
       "      <td>Liberia</td>\n",
       "    </tr>\n",
       "    <tr>\n",
       "      <th>16</th>\n",
       "      <td>Malaysia</td>\n",
       "    </tr>\n",
       "    <tr>\n",
       "      <th>17</th>\n",
       "      <td>Marshall Islands</td>\n",
       "    </tr>\n",
       "    <tr>\n",
       "      <th>18</th>\n",
       "      <td>Mauritius</td>\n",
       "    </tr>\n",
       "    <tr>\n",
       "      <th>19</th>\n",
       "      <td>Netherlands</td>\n",
       "    </tr>\n",
       "    <tr>\n",
       "      <th>20</th>\n",
       "      <td>Panama</td>\n",
       "    </tr>\n",
       "    <tr>\n",
       "      <th>21</th>\n",
       "      <td>QQQ</td>\n",
       "    </tr>\n",
       "    <tr>\n",
       "      <th>22</th>\n",
       "      <td>SAIC</td>\n",
       "    </tr>\n",
       "    <tr>\n",
       "      <th>23</th>\n",
       "      <td>Samoa</td>\n",
       "    </tr>\n",
       "    <tr>\n",
       "      <th>24</th>\n",
       "      <td>Seychelles</td>\n",
       "    </tr>\n",
       "    <tr>\n",
       "      <th>25</th>\n",
       "      <td>Singapore</td>\n",
       "    </tr>\n",
       "    <tr>\n",
       "      <th>26</th>\n",
       "      <td>St. Lucia</td>\n",
       "    </tr>\n",
       "    <tr>\n",
       "      <th>27</th>\n",
       "      <td>Thailand</td>\n",
       "    </tr>\n",
       "    <tr>\n",
       "      <th>28</th>\n",
       "      <td>United Kingdom</td>\n",
       "    </tr>\n",
       "    <tr>\n",
       "      <th>29</th>\n",
       "      <td>United States of America</td>\n",
       "    </tr>\n",
       "    <tr>\n",
       "      <th>30</th>\n",
       "      <td>Vanuatu</td>\n",
       "    </tr>\n",
       "  </tbody>\n",
       "</table>\n",
       "</div>"
      ],
      "text/plain": [
       "           desc_jurisdiction\n",
       "0                       None\n",
       "1                        BBC\n",
       "2                    Bahamas\n",
       "3                    Bermuda\n",
       "4     British Virgin Islands\n",
       "5                     Brunei\n",
       "6                     Cayman\n",
       "7                      China\n",
       "8               Cook Islands\n",
       "9                     Cyprus\n",
       "10                     Dubai\n",
       "11       Fund Administration\n",
       "12                 Hong Kong\n",
       "13                   Ireland\n",
       "14                    Labuan\n",
       "15                   Liberia\n",
       "16                  Malaysia\n",
       "17          Marshall Islands\n",
       "18                 Mauritius\n",
       "19               Netherlands\n",
       "20                    Panama\n",
       "21                       QQQ\n",
       "22                      SAIC\n",
       "23                     Samoa\n",
       "24                Seychelles\n",
       "25                 Singapore\n",
       "26                 St. Lucia\n",
       "27                  Thailand\n",
       "28            United Kingdom\n",
       "29  United States of America\n",
       "30                   Vanuatu"
      ]
     },
     "execution_count": 43,
     "metadata": {},
     "output_type": "execute_result"
    }
   ],
   "source": [
    "query = '''SELECT DISTINCT(desc_jurisdiction)\n",
    "FROM nodes;'''\n",
    "\n",
    "sql_to_df(query)"
   ]
  },
  {
   "cell_type": "code",
   "execution_count": null,
   "metadata": {
    "collapsed": false
   },
   "outputs": [],
   "source": []
  },
  {
   "cell_type": "code",
   "execution_count": null,
   "metadata": {
    "collapsed": true
   },
   "outputs": [],
   "source": []
  }
 ],
 "metadata": {
  "kernelspec": {
   "display_name": "Python 2",
   "language": "python",
   "name": "python2"
  },
  "language_info": {
   "codemirror_mode": {
    "name": "ipython",
    "version": 2
   },
   "file_extension": ".py",
   "mimetype": "text/x-python",
   "name": "python",
   "nbconvert_exporter": "python",
   "pygments_lexer": "ipython2",
   "version": "2.7.8"
  }
 },
 "nbformat": 4,
 "nbformat_minor": 0
}
